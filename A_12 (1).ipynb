{
 "cells": [
  {
   "cell_type": "code",
   "execution_count": 0,
   "metadata": {
    "colab": {},
    "colab_type": "code",
    "id": "23yILNSHSu4l"
   },
   "outputs": [],
   "source": [
    "import matplotlib.pyplot as plt\n",
    "from keras.utils import np_utils \n",
    "from keras.datasets import mnist \n",
    "from keras.models import Sequential \n",
    "from keras.layers import Dropout\n",
    "from keras.layers.normalization import BatchNormalization\n",
    "from keras.optimizers import Adam\n",
    "from keras.layers import Dense, Activation\n",
    "import seaborn as sns\n",
    "import numpy as np\n",
    "import keras\n",
    "\n",
    "\n",
    "%matplotlib inline\n"
   ]
  },
  {
   "cell_type": "code",
   "execution_count": 2,
   "metadata": {
    "colab": {
     "base_uri": "https://localhost:8080/",
     "height": 50
    },
    "colab_type": "code",
    "id": "VQmBCRe_Tred",
    "outputId": "953039f7-7794-4cf9-88b3-d902f666abdd"
   },
   "outputs": [
    {
     "name": "stdout",
     "output_type": "stream",
     "text": [
      "Downloading data from https://s3.amazonaws.com/img-datasets/mnist.npz\n",
      "11493376/11490434 [==============================] - 0s 0us/step\n"
     ]
    }
   ],
   "source": [
    "(X_train, y_train), (X_test, y_test) = mnist.load_data()"
   ]
  },
  {
   "cell_type": "code",
   "execution_count": 3,
   "metadata": {
    "colab": {
     "base_uri": "https://localhost:8080/",
     "height": 84
    },
    "colab_type": "code",
    "id": "qCXRCMIxU_Ec",
    "outputId": "362b466a-223c-4ea5-bba4-a2fe96bbc4e1"
   },
   "outputs": [
    {
     "name": "stdout",
     "output_type": "stream",
     "text": [
      "Training data shape:  (60000, 28, 28)\n",
      "Test data shape (10000, 28, 28)\n",
      "Training label shape:  (60000,)\n",
      "First 5 training labels:  [5 0 4 1 9]\n"
     ]
    }
   ],
   "source": [
    "print(\"Training data shape: \", X_train.shape) # (60000, 28, 28) -- 60000 images, each 28x28 pixels\n",
    "print(\"Test data shape\", X_test.shape)\n",
    "\n",
    "print(\"Training label shape: \", y_train.shape) # (60000,) -- 60000 numbers (all 0-9)\n",
    "print(\"First 5 training labels: \", y_train[:5]) # [5, 0, 4, 1, 9]"
   ]
  },
  {
   "cell_type": "code",
   "execution_count": 0,
   "metadata": {
    "colab": {},
    "colab_type": "code",
    "id": "btzc-8QyVQV2"
   },
   "outputs": [],
   "source": [
    "# Flatten the images\n",
    "image_vector_size = 28*28\n",
    "X_train = X_train.reshape(X_train.shape[0], image_vector_size)\n",
    "X_test = X_test.reshape(X_test.shape[0], image_vector_size)"
   ]
  },
  {
   "cell_type": "code",
   "execution_count": 5,
   "metadata": {
    "colab": {
     "base_uri": "https://localhost:8080/",
     "height": 118
    },
    "colab_type": "code",
    "id": "GsLt-M5iVxCV",
    "outputId": "bf8606ee-c391-4d46-c9f5-9015a019f2d0"
   },
   "outputs": [
    {
     "name": "stdout",
     "output_type": "stream",
     "text": [
      "First 5 training lables as one-hot encoded vectors:\n",
      " [[0. 0. 0. 0. 0. 1. 0. 0. 0. 0.]\n",
      " [1. 0. 0. 0. 0. 0. 0. 0. 0. 0.]\n",
      " [0. 0. 0. 0. 1. 0. 0. 0. 0. 0.]\n",
      " [0. 1. 0. 0. 0. 0. 0. 0. 0. 0.]\n",
      " [0. 0. 0. 0. 0. 0. 0. 0. 0. 1.]]\n"
     ]
    }
   ],
   "source": [
    "# Convert to \"one-hot\" vectors using the to_categorical function\n",
    "num_classes = 10\n",
    "y_train = keras.utils.to_categorical(y_train, num_classes)\n",
    "y_test = keras.utils.to_categorical(y_test, num_classes)\n",
    "print(\"First 5 training lables as one-hot encoded vectors:\\n\", y_train[:5])"
   ]
  },
  {
   "cell_type": "code",
   "execution_count": 0,
   "metadata": {
    "colab": {},
    "colab_type": "code",
    "id": "nXNjhypdV0Zn"
   },
   "outputs": [],
   "source": []
  },
  {
   "cell_type": "markdown",
   "metadata": {
    "colab_type": "text",
    "id": "BXqzSL8mrJfP"
   },
   "source": [
    "## Model 1 without dropout and BN"
   ]
  },
  {
   "cell_type": "code",
   "execution_count": 0,
   "metadata": {
    "colab": {},
    "colab_type": "code",
    "id": "gHnvyBPPYHAy"
   },
   "outputs": [],
   "source": [
    "\n",
    "output_dim = 10\n",
    "input_dim = X_train.shape[1]\n",
    "\n",
    "nb_epoch = 10\n",
    "batch_size = 128"
   ]
  },
  {
   "cell_type": "code",
   "execution_count": 0,
   "metadata": {
    "colab": {
     "base_uri": "https://localhost:8080/",
     "height": 252
    },
    "colab_type": "code",
    "id": "Rg18-KlgYoqZ",
    "outputId": "d0d07cb9-04b0-4372-96ac-4fc8b78d13dd"
   },
   "outputs": [
    {
     "name": "stdout",
     "output_type": "stream",
     "text": [
      "_________________________________________________________________\n",
      "Layer (type)                 Output Shape              Param #   \n",
      "=================================================================\n",
      "dense_15 (Dense)             (None, 364)               285740    \n",
      "_________________________________________________________________\n",
      "dense_16 (Dense)             (None, 120)               43800     \n",
      "_________________________________________________________________\n",
      "dense_17 (Dense)             (None, 10)                1210      \n",
      "=================================================================\n",
      "Total params: 330,750\n",
      "Trainable params: 330,750\n",
      "Non-trainable params: 0\n",
      "_________________________________________________________________\n",
      "None\n"
     ]
    }
   ],
   "source": [
    "model1 = Sequential()\n",
    "\n",
    "model1.add(Dense(364, activation='relu', input_shape=(input_dim,),kernel_initializer='random_uniform'))\n",
    "model1.add(Dense(120, activation='relu', kernel_initializer='random_uniform'))\n",
    "\n",
    "model1.add(Dense(output_dim, activation='softmax'))\n",
    "\n",
    "print(model1.summary())\n",
    "\n"
   ]
  },
  {
   "cell_type": "code",
   "execution_count": 0,
   "metadata": {
    "colab": {},
    "colab_type": "code",
    "id": "f3OjmIqEY5PI"
   },
   "outputs": [],
   "source": [
    "model1.compile(optimizer='adam', \n",
    "               loss='categorical_crossentropy',\n",
    "               metrics=['accuracy'])\n"
   ]
  },
  {
   "cell_type": "code",
   "execution_count": 0,
   "metadata": {
    "colab": {
     "base_uri": "https://localhost:8080/",
     "height": 370
    },
    "colab_type": "code",
    "id": "M4Hj15cpZygh",
    "outputId": "ecd1d040-f4b9-4575-c65a-78783f67af92"
   },
   "outputs": [
    {
     "name": "stdout",
     "output_type": "stream",
     "text": [
      "Train on 60000 samples, validate on 10000 samples\n",
      "Epoch 1/20\n",
      "Epoch 2/20\n",
      "Epoch 3/20\n",
      "Epoch 4/20\n",
      "Epoch 5/20\n",
      "Epoch 6/20\n",
      "Epoch 7/20\n",
      "Epoch 8/20\n",
      "Epoch 9/20\n",
      "Epoch 10/20\n",
      "Epoch 11/20\n",
      "Epoch 12/20\n",
      "Epoch 13/20\n",
      "Epoch 14/20\n",
      "Epoch 15/20\n",
      "Epoch 16/20\n",
      "Epoch 17/20\n",
      "Epoch 18/20\n",
      "Epoch 19/20\n",
      "Epoch 20/20\n"
     ]
    }
   ],
   "source": [
    "# Training the model\n",
    "history = model1.fit(X_train, y_train, batch_size = batch_size, epochs=nb_epoch, verbose= 30, validation_data=(X_test, y_test))"
   ]
  },
  {
   "cell_type": "code",
   "execution_count": 0,
   "metadata": {
    "colab": {
     "base_uri": "https://localhost:8080/",
     "height": 34
    },
    "colab_type": "code",
    "id": "hIbQNMMPZ1bv",
    "outputId": "864d6771-6d28-4e3a-92e3-5350b68ef9a5"
   },
   "outputs": [
    {
     "name": "stdout",
     "output_type": "stream",
     "text": [
      "10000/10000 [==============================] - 0s 49us/step\n"
     ]
    }
   ],
   "source": [
    "score = model1.evaluate(X_test, y_test)"
   ]
  },
  {
   "cell_type": "code",
   "execution_count": 0,
   "metadata": {
    "colab": {
     "base_uri": "https://localhost:8080/",
     "height": 283
    },
    "colab_type": "code",
    "id": "XeVMqpXTaiMl",
    "outputId": "ea5fbe2d-c29f-446c-e57a-76f26b362ba5"
   },
   "outputs": [
    {
     "data": {
      "image/png": "[encoded data removed]",
      "text/plain": [
       "<Figure size 432x288 with 1 Axes>"
      ]
     },
     "metadata": {
      "tags": []
     },
     "output_type": "display_data"
    }
   ],
   "source": [
    "fig,ax = plt.subplots(1,1)\n",
    "ax.set_xlabel('Epochs') ; ax.set_ylabel('Loss')\n",
    "\n",
    "# list of epoch numbers\n",
    "list_of_epoch = list(range(1,nb_epoch+1))\n",
    "\n",
    "train_loss = history.history['loss']\n",
    "val_loss = history.history['val_loss']\n",
    "\n",
    "ax.plot(list_of_epoch, val_loss, 'g', label=\"Validation Loss\")\n",
    "ax.plot(list_of_epoch, train_loss, 'r', label=\"Training Loss\")\n",
    "plt.legend()\n",
    "plt.grid()\n",
    "plt.show();"
   ]
  },
  {
   "cell_type": "code",
   "execution_count": 0,
   "metadata": {
    "colab": {
     "base_uri": "https://localhost:8080/",
     "height": 34
    },
    "colab_type": "code",
    "id": "mjB1UYh2a3GN",
    "outputId": "7770c870-ac68-4ec2-f4ae-974c3e2d461a"
   },
   "outputs": [
    {
     "name": "stdout",
     "output_type": "stream",
     "text": [
      "Test accuracy: 0.8604\n"
     ]
    }
   ],
   "source": [
    "print('Test accuracy:', score[1])\n"
   ]
  },
  {
   "cell_type": "markdown",
   "metadata": {
    "colab_type": "text",
    "id": "vvT_hcluc27x"
   },
   "source": [
    "### 2 Layers with BN and Dropout"
   ]
  },
  {
   "cell_type": "code",
   "execution_count": 0,
   "metadata": {
    "colab": {
     "base_uri": "https://localhost:8080/",
     "height": 319
    },
    "colab_type": "code",
    "id": "TJ0dJ-gRbdoX",
    "outputId": "1e285597-e582-4e71-b98b-287ba0966ccf"
   },
   "outputs": [
    {
     "name": "stdout",
     "output_type": "stream",
     "text": [
      "_________________________________________________________________\n",
      "Layer (type)                 Output Shape              Param #   \n",
      "=================================================================\n",
      "dense_21 (Dense)             (None, 364)               285740    \n",
      "_________________________________________________________________\n",
      "dense_22 (Dense)             (None, 128)               46720     \n",
      "_________________________________________________________________\n",
      "batch_normalization_3 (Batch (None, 128)               512       \n",
      "_________________________________________________________________\n",
      "dropout_3 (Dropout)          (None, 128)               0         \n",
      "_________________________________________________________________\n",
      "dense_23 (Dense)             (None, 10)                1290      \n",
      "=================================================================\n",
      "Total params: 334,262\n",
      "Trainable params: 334,006\n",
      "Non-trainable params: 256\n",
      "_________________________________________________________________\n",
      "None\n"
     ]
    }
   ],
   "source": [
    "model2 = Sequential()\n",
    "\n",
    "model2.add(Dense(364, activation='relu', input_shape=(input_dim,),kernel_initializer='random_uniform'))\n",
    "model2.add(Dense(128, activation='relu',kernel_initializer='random_uniform'))\n",
    "\n",
    "model2.add(BatchNormalization())\n",
    "model2.add(Dropout(0.5))\n",
    "\n",
    "model2.add(Dense(output_dim, activation='softmax'))\n",
    "\n",
    "print(model2.summary())\n",
    "\n"
   ]
  },
  {
   "cell_type": "code",
   "execution_count": 0,
   "metadata": {
    "colab": {},
    "colab_type": "code",
    "id": "bx75bcUjbzv_"
   },
   "outputs": [],
   "source": [
    "model2.compile(optimizer='adam', \n",
    "               loss='categorical_crossentropy',\n",
    "               metrics=['accuracy'])\n"
   ]
  },
  {
   "cell_type": "code",
   "execution_count": 0,
   "metadata": {
    "colab": {
     "base_uri": "https://localhost:8080/",
     "height": 370
    },
    "colab_type": "code",
    "id": "Jy1TcKHKbzwC",
    "outputId": "4677a756-12fc-4c34-a733-da786bc80b2c"
   },
   "outputs": [
    {
     "name": "stdout",
     "output_type": "stream",
     "text": [
      "Train on 60000 samples, validate on 10000 samples\n",
      "Epoch 1/20\n",
      "Epoch 2/20\n",
      "Epoch 3/20\n",
      "Epoch 4/20\n",
      "Epoch 5/20\n",
      "Epoch 6/20\n",
      "Epoch 7/20\n",
      "Epoch 8/20\n",
      "Epoch 9/20\n",
      "Epoch 10/20\n",
      "Epoch 11/20\n",
      "Epoch 12/20\n",
      "Epoch 13/20\n",
      "Epoch 14/20\n",
      "Epoch 15/20\n",
      "Epoch 16/20\n",
      "Epoch 17/20\n",
      "Epoch 18/20\n",
      "Epoch 19/20\n",
      "Epoch 20/20\n"
     ]
    }
   ],
   "source": [
    "# Training the model\n",
    "history = model2.fit(X_train, y_train, batch_size = batch_size, epochs=nb_epoch, verbose= 30, validation_data=(X_test, y_test))"
   ]
  },
  {
   "cell_type": "code",
   "execution_count": 0,
   "metadata": {
    "colab": {
     "base_uri": "https://localhost:8080/",
     "height": 34
    },
    "colab_type": "code",
    "id": "L4e3EyGwbzwO",
    "outputId": "7996a501-83fb-4bd8-89e6-3994ca2b0495"
   },
   "outputs": [
    {
     "name": "stdout",
     "output_type": "stream",
     "text": [
      "10000/10000 [==============================] - 1s 55us/step\n"
     ]
    }
   ],
   "source": [
    "score = model2.evaluate(X_test, y_test)"
   ]
  },
  {
   "cell_type": "code",
   "execution_count": 0,
   "metadata": {
    "colab": {
     "base_uri": "https://localhost:8080/",
     "height": 283
    },
    "colab_type": "code",
    "id": "FiLW2KhNbzwW",
    "outputId": "01b0aa3d-2f89-452c-d119-3900ab651998"
   },
   "outputs": [
    {
     "data": {
      "image/png": "[encoded data removed]",
      "text/plain": [
       "<Figure size 432x288 with 1 Axes>"
      ]
     },
     "metadata": {
      "tags": []
     },
     "output_type": "display_data"
    }
   ],
   "source": [
    "fig,ax = plt.subplots(1,1)\n",
    "ax.set_xlabel('Epochs') ; ax.set_ylabel('Loss')\n",
    "\n",
    "# list of epoch numbers\n",
    "list_of_epoch = list(range(1,nb_epoch+1))\n",
    "\n",
    "train_loss = history.history['loss']\n",
    "val_loss = history.history['val_loss']\n",
    "\n",
    "ax.plot(list_of_epoch, val_loss, 'g', label=\"Validation Loss\")\n",
    "ax.plot(list_of_epoch, train_loss, 'r', label=\"Training Loss\")\n",
    "plt.legend()\n",
    "plt.grid()\n",
    "plt.show();"
   ]
  },
  {
   "cell_type": "code",
   "execution_count": 0,
   "metadata": {
    "colab": {
     "base_uri": "https://localhost:8080/",
     "height": 34
    },
    "colab_type": "code",
    "id": "yQ720nDZc1Na",
    "outputId": "77885201-9539-459d-98c9-135c0ee48489"
   },
   "outputs": [
    {
     "name": "stdout",
     "output_type": "stream",
     "text": [
      "Test accuracy: 0.9819\n"
     ]
    }
   ],
   "source": [
    "print('Test accuracy:', score[1])\n"
   ]
  },
  {
   "cell_type": "markdown",
   "metadata": {
    "colab_type": "text",
    "id": "-HIGAoB2P6CZ"
   },
   "source": [
    "### Changing dropout rate to 0.8"
   ]
  },
  {
   "cell_type": "code",
   "execution_count": 16,
   "metadata": {
    "colab": {
     "base_uri": "https://localhost:8080/",
     "height": 390
    },
    "colab_type": "code",
    "id": "0D2n-ZhcQbj2",
    "outputId": "b448253e-82ae-4c69-ac11-aeb1b6e5baa8"
   },
   "outputs": [
    {
     "name": "stdout",
     "output_type": "stream",
     "text": [
      "WARNING:tensorflow:From /usr/local/lib/python3.6/dist-packages/keras/backend/tensorflow_backend.py:3445: calling dropout (from tensorflow.python.ops.nn_ops) with keep_prob is deprecated and will be removed in a future version.\n",
      "Instructions for updating:\n",
      "Please use `rate` instead of `keep_prob`. Rate should be set to `rate = 1 - keep_prob`.\n",
      "_________________________________________________________________\n",
      "Layer (type)                 Output Shape              Param #   \n",
      "=================================================================\n",
      "dense_1 (Dense)              (None, 364)               285740    \n",
      "_________________________________________________________________\n",
      "dense_2 (Dense)              (None, 128)               46720     \n",
      "_________________________________________________________________\n",
      "batch_normalization_1 (Batch (None, 128)               512       \n",
      "_________________________________________________________________\n",
      "dropout_1 (Dropout)          (None, 128)               0         \n",
      "_________________________________________________________________\n",
      "dense_3 (Dense)              (None, 10)                1290      \n",
      "=================================================================\n",
      "Total params: 334,262\n",
      "Trainable params: 334,006\n",
      "Non-trainable params: 256\n",
      "_________________________________________________________________\n",
      "None\n"
     ]
    }
   ],
   "source": [
    "model2 = Sequential()\n",
    "\n",
    "model2.add(Dense(364, activation='relu', input_shape=(input_dim,),kernel_initializer='random_uniform'))\n",
    "model2.add(Dense(128, activation='relu',kernel_initializer='random_uniform'))\n",
    "\n",
    "model2.add(BatchNormalization())\n",
    "model2.add(Dropout(0.8))\n",
    "\n",
    "model2.add(Dense(output_dim, activation='softmax'))\n",
    "\n",
    "print(model2.summary())\n",
    "\n"
   ]
  },
  {
   "cell_type": "code",
   "execution_count": 0,
   "metadata": {
    "colab": {},
    "colab_type": "code",
    "id": "r-wl9KkJQbj-"
   },
   "outputs": [],
   "source": [
    "model2.compile(optimizer='adam', \n",
    "               loss='categorical_crossentropy',\n",
    "               metrics=['accuracy'])\n"
   ]
  },
  {
   "cell_type": "code",
   "execution_count": 19,
   "metadata": {
    "colab": {
     "base_uri": "https://localhost:8080/",
     "height": 706
    },
    "colab_type": "code",
    "id": "Eh1hPB-ZQbkC",
    "outputId": "235b40f0-da4c-4e30-d3e1-52f7ac3895b5"
   },
   "outputs": [
    {
     "name": "stdout",
     "output_type": "stream",
     "text": [
      "Train on 60000 samples, validate on 10000 samples\n",
      "Epoch 1/20\n",
      "60000/60000 [==============================] - 6s 93us/step - loss: 0.1610 - acc: 0.9561 - val_loss: 0.1074 - val_acc: 0.9673\n",
      "Epoch 2/20\n",
      "60000/60000 [==============================] - 6s 92us/step - loss: 0.1238 - acc: 0.9661 - val_loss: 0.0930 - val_acc: 0.9745\n",
      "Epoch 3/20\n",
      "60000/60000 [==============================] - 6s 94us/step - loss: 0.1043 - acc: 0.9710 - val_loss: 0.0836 - val_acc: 0.9748\n",
      "Epoch 4/20\n",
      "60000/60000 [==============================] - 6s 92us/step - loss: 0.0880 - acc: 0.9758 - val_loss: 0.0896 - val_acc: 0.9748\n",
      "Epoch 5/20\n",
      "60000/60000 [==============================] - 6s 93us/step - loss: 0.0741 - acc: 0.9792 - val_loss: 0.0880 - val_acc: 0.9743\n",
      "Epoch 6/20\n",
      "60000/60000 [==============================] - 5s 91us/step - loss: 0.0638 - acc: 0.9816 - val_loss: 0.0733 - val_acc: 0.9808\n",
      "Epoch 7/20\n",
      "60000/60000 [==============================] - 6s 93us/step - loss: 0.0622 - acc: 0.9829 - val_loss: 0.0842 - val_acc: 0.9780\n",
      "Epoch 8/20\n",
      "60000/60000 [==============================] - 6s 93us/step - loss: 0.0528 - acc: 0.9850 - val_loss: 0.0758 - val_acc: 0.9795\n",
      "Epoch 9/20\n",
      "60000/60000 [==============================] - 6s 92us/step - loss: 0.0472 - acc: 0.9863 - val_loss: 0.0799 - val_acc: 0.9796\n",
      "Epoch 10/20\n",
      "60000/60000 [==============================] - 6s 92us/step - loss: 0.0426 - acc: 0.9875 - val_loss: 0.0946 - val_acc: 0.9776\n",
      "Epoch 11/20\n",
      "60000/60000 [==============================] - 5s 91us/step - loss: 0.0409 - acc: 0.9878 - val_loss: 0.0826 - val_acc: 0.9803\n",
      "Epoch 12/20\n",
      "60000/60000 [==============================] - 6s 92us/step - loss: 0.0345 - acc: 0.9894 - val_loss: 0.0852 - val_acc: 0.9798\n",
      "Epoch 13/20\n",
      "60000/60000 [==============================] - 5s 92us/step - loss: 0.0312 - acc: 0.9905 - val_loss: 0.0869 - val_acc: 0.9798\n",
      "Epoch 14/20\n",
      "60000/60000 [==============================] - 5s 91us/step - loss: 0.0307 - acc: 0.9911 - val_loss: 0.0837 - val_acc: 0.9815\n",
      "Epoch 15/20\n",
      "60000/60000 [==============================] - 5s 89us/step - loss: 0.0285 - acc: 0.9915 - val_loss: 0.1004 - val_acc: 0.9785\n",
      "Epoch 16/20\n",
      "60000/60000 [==============================] - 5s 89us/step - loss: 0.0288 - acc: 0.9913 - val_loss: 0.1110 - val_acc: 0.9756\n",
      "Epoch 17/20\n",
      "60000/60000 [==============================] - 5s 90us/step - loss: 0.0265 - acc: 0.9922 - val_loss: 0.0863 - val_acc: 0.9815\n",
      "Epoch 18/20\n",
      "60000/60000 [==============================] - 6s 93us/step - loss: 0.0237 - acc: 0.9927 - val_loss: 0.0986 - val_acc: 0.9788\n",
      "Epoch 19/20\n",
      "60000/60000 [==============================] - 6s 95us/step - loss: 0.0234 - acc: 0.9930 - val_loss: 0.0881 - val_acc: 0.9803\n",
      "Epoch 20/20\n",
      "60000/60000 [==============================] - 6s 98us/step - loss: 0.0185 - acc: 0.9945 - val_loss: 0.0934 - val_acc: 0.9803\n"
     ]
    }
   ],
   "source": [
    "# Training the model\n",
    "history = model2.fit(X_train, y_train, batch_size = batch_size, epochs=nb_epoch, verbose= 1, validation_data=(X_test, y_test))"
   ]
  },
  {
   "cell_type": "code",
   "execution_count": 20,
   "metadata": {
    "colab": {
     "base_uri": "https://localhost:8080/",
     "height": 34
    },
    "colab_type": "code",
    "id": "4siq9Bu0QbkN",
    "outputId": "aa0a0994-0440-4f68-87f8-5c03020d1f00"
   },
   "outputs": [
    {
     "name": "stdout",
     "output_type": "stream",
     "text": [
      "10000/10000 [==============================] - 0s 50us/step\n"
     ]
    }
   ],
   "source": [
    "score = model2.evaluate(X_test, y_test)"
   ]
  },
  {
   "cell_type": "code",
   "execution_count": 21,
   "metadata": {
    "colab": {
     "base_uri": "https://localhost:8080/",
     "height": 283
    },
    "colab_type": "code",
    "id": "LmhtbfTuQbkW",
    "outputId": "487ef15f-ff59-4d74-ba0c-137e452998f6"
   },
   "outputs": [
    {
     "data": {
      "image/png": "[encoded data removed]",
      "text/plain": [
       "<Figure size 432x288 with 1 Axes>"
      ]
     },
     "metadata": {
      "tags": []
     },
     "output_type": "display_data"
    }
   ],
   "source": [
    "fig,ax = plt.subplots(1,1)\n",
    "ax.set_xlabel('Epochs') ; ax.set_ylabel('Loss')\n",
    "\n",
    "# list of epoch numbers\n",
    "list_of_epoch = list(range(1,nb_epoch+1))\n",
    "\n",
    "train_loss = history.history['loss']\n",
    "val_loss = history.history['val_loss']\n",
    "\n",
    "ax.plot(list_of_epoch, val_loss, 'g', label=\"Validation Loss\")\n",
    "ax.plot(list_of_epoch, train_loss, 'r', label=\"Training Loss\")\n",
    "plt.legend()\n",
    "plt.grid()\n",
    "plt.show();"
   ]
  },
  {
   "cell_type": "code",
   "execution_count": 22,
   "metadata": {
    "colab": {
     "base_uri": "https://localhost:8080/",
     "height": 34
    },
    "colab_type": "code",
    "id": "UKukVY7mQbkc",
    "outputId": "bcbb8088-8b1c-4150-cf27-39d3b0cc7269"
   },
   "outputs": [
    {
     "name": "stdout",
     "output_type": "stream",
     "text": [
      "Test accuracy: 0.9803\n"
     ]
    }
   ],
   "source": [
    "print('Test accuracy:', score[1])\n"
   ]
  },
  {
   "cell_type": "markdown",
   "metadata": {
    "colab_type": "text",
    "id": "FMoaW4tvRCwy"
   },
   "source": [
    "### Changing dropout rate to 0.2"
   ]
  },
  {
   "cell_type": "code",
   "execution_count": 30,
   "metadata": {
    "colab": {
     "base_uri": "https://localhost:8080/",
     "height": 319
    },
    "colab_type": "code",
    "id": "cwd9WtzjRHH5",
    "outputId": "00110d0e-47bd-499d-a34c-f06253cb5874"
   },
   "outputs": [
    {
     "name": "stdout",
     "output_type": "stream",
     "text": [
      "_________________________________________________________________\n",
      "Layer (type)                 Output Shape              Param #   \n",
      "=================================================================\n",
      "dense_7 (Dense)              (None, 364)               285740    \n",
      "_________________________________________________________________\n",
      "dense_8 (Dense)              (None, 128)               46720     \n",
      "_________________________________________________________________\n",
      "batch_normalization_3 (Batch (None, 128)               512       \n",
      "_________________________________________________________________\n",
      "dropout_3 (Dropout)          (None, 128)               0         \n",
      "_________________________________________________________________\n",
      "dense_9 (Dense)              (None, 10)                1290      \n",
      "=================================================================\n",
      "Total params: 334,262\n",
      "Trainable params: 334,006\n",
      "Non-trainable params: 256\n",
      "_________________________________________________________________\n",
      "None\n"
     ]
    }
   ],
   "source": [
    "model2 = Sequential()\n",
    "\n",
    "model2.add(Dense(364, activation='relu', input_shape=(input_dim,),kernel_initializer='random_uniform'))\n",
    "model2.add(Dense(128, activation='relu',kernel_initializer='random_uniform'))\n",
    "\n",
    "model2.add(BatchNormalization())\n",
    "model2.add(Dropout(0.2))\n",
    "\n",
    "model2.add(Dense(output_dim, activation='softmax'))\n",
    "\n",
    "print(model2.summary())\n",
    "\n"
   ]
  },
  {
   "cell_type": "code",
   "execution_count": 0,
   "metadata": {
    "colab": {},
    "colab_type": "code",
    "id": "JZ1seZaqRHID"
   },
   "outputs": [],
   "source": [
    "model2.compile(optimizer='adam', \n",
    "               loss='categorical_crossentropy',\n",
    "               metrics=['accuracy'])\n"
   ]
  },
  {
   "cell_type": "code",
   "execution_count": 32,
   "metadata": {
    "colab": {
     "base_uri": "https://localhost:8080/",
     "height": 370
    },
    "colab_type": "code",
    "id": "TOHabaZiRHII",
    "outputId": "3f80215d-e182-4b2f-87d5-8f8623e84c47"
   },
   "outputs": [
    {
     "name": "stdout",
     "output_type": "stream",
     "text": [
      "Train on 60000 samples, validate on 10000 samples\n",
      "Epoch 1/10\n",
      "60000/60000 [==============================] - 6s 101us/step - loss: 0.2233 - acc: 0.9340 - val_loss: 0.1149 - val_acc: 0.9643\n",
      "Epoch 2/10\n",
      "60000/60000 [==============================] - 5s 89us/step - loss: 0.0950 - acc: 0.9714 - val_loss: 0.0874 - val_acc: 0.9731\n",
      "Epoch 3/10\n",
      "60000/60000 [==============================] - 5s 89us/step - loss: 0.0646 - acc: 0.9803 - val_loss: 0.0940 - val_acc: 0.9713\n",
      "Epoch 4/10\n",
      "60000/60000 [==============================] - 5s 90us/step - loss: 0.0496 - acc: 0.9841 - val_loss: 0.0780 - val_acc: 0.9759\n",
      "Epoch 5/10\n",
      "60000/60000 [==============================] - 5s 89us/step - loss: 0.0382 - acc: 0.9874 - val_loss: 0.0642 - val_acc: 0.9815\n",
      "Epoch 6/10\n",
      "60000/60000 [==============================] - 5s 90us/step - loss: 0.0315 - acc: 0.9902 - val_loss: 0.0838 - val_acc: 0.9747\n",
      "Epoch 7/10\n",
      "60000/60000 [==============================] - 5s 90us/step - loss: 0.0269 - acc: 0.9912 - val_loss: 0.0745 - val_acc: 0.9792\n",
      "Epoch 8/10\n",
      "60000/60000 [==============================] - 6s 92us/step - loss: 0.0237 - acc: 0.9925 - val_loss: 0.0871 - val_acc: 0.9754\n",
      "Epoch 9/10\n",
      "60000/60000 [==============================] - 6s 92us/step - loss: 0.0215 - acc: 0.9926 - val_loss: 0.0807 - val_acc: 0.9770\n",
      "Epoch 10/10\n",
      "60000/60000 [==============================] - 5s 90us/step - loss: 0.0180 - acc: 0.9941 - val_loss: 0.0750 - val_acc: 0.9813\n"
     ]
    }
   ],
   "source": [
    "# Training the model\n",
    "history = model2.fit(X_train, y_train, batch_size = batch_size, epochs=nb_epoch, verbose= 1, validation_data=(X_test, y_test))"
   ]
  },
  {
   "cell_type": "code",
   "execution_count": 33,
   "metadata": {
    "colab": {
     "base_uri": "https://localhost:8080/",
     "height": 34
    },
    "colab_type": "code",
    "id": "FQjiywBsRHIP",
    "outputId": "7d4cb036-a17c-4fff-8758-021430949c46"
   },
   "outputs": [
    {
     "name": "stdout",
     "output_type": "stream",
     "text": [
      "10000/10000 [==============================] - 0s 48us/step\n"
     ]
    }
   ],
   "source": [
    "score = model2.evaluate(X_test, y_test)"
   ]
  },
  {
   "cell_type": "code",
   "execution_count": 34,
   "metadata": {
    "colab": {
     "base_uri": "https://localhost:8080/",
     "height": 283
    },
    "colab_type": "code",
    "id": "cJZ0ZZNdRHIT",
    "outputId": "5d1fa75c-e2ad-412e-df0e-ab9cb20c8cad"
   },
   "outputs": [
    {
     "data": {
      "image/png": "[encoded data removed]",
      "text/plain": [
       "<Figure size 432x288 with 1 Axes>"
      ]
     },
     "metadata": {
      "tags": []
     },
     "output_type": "display_data"
    }
   ],
   "source": [
    "fig,ax = plt.subplots(1,1)\n",
    "ax.set_xlabel('Epochs') ; ax.set_ylabel('Loss')\n",
    "\n",
    "# list of epoch numbers\n",
    "list_of_epoch = list(range(1,nb_epoch+1))\n",
    "\n",
    "train_loss = history.history['loss']\n",
    "val_loss = history.history['val_loss']\n",
    "\n",
    "ax.plot(list_of_epoch, val_loss, 'g', label=\"Validation Loss\")\n",
    "ax.plot(list_of_epoch, train_loss, 'r', label=\"Training Loss\")\n",
    "plt.legend()\n",
    "plt.grid()\n",
    "plt.show();"
   ]
  },
  {
   "cell_type": "code",
   "execution_count": 35,
   "metadata": {
    "colab": {
     "base_uri": "https://localhost:8080/",
     "height": 34
    },
    "colab_type": "code",
    "id": "maEAvCUWRHIZ",
    "outputId": "f043b93f-bf8c-4726-ee4d-69276eeeec8a"
   },
   "outputs": [
    {
     "name": "stdout",
     "output_type": "stream",
     "text": [
      "Test accuracy: 0.9813\n"
     ]
    }
   ],
   "source": [
    "print('Test accuracy:', score[1])\n"
   ]
  },
  {
   "cell_type": "markdown",
   "metadata": {
    "colab_type": "text",
    "id": "Um5tClVueq9F"
   },
   "source": [
    "### Model with 3 hidden layers"
   ]
  },
  {
   "cell_type": "code",
   "execution_count": 0,
   "metadata": {
    "colab": {
     "base_uri": "https://localhost:8080/",
     "height": 286
    },
    "colab_type": "code",
    "id": "_pcXUPAmewV3",
    "outputId": "6fff61ed-e164-470a-b14e-590b9fadd696"
   },
   "outputs": [
    {
     "name": "stdout",
     "output_type": "stream",
     "text": [
      "_________________________________________________________________\n",
      "Layer (type)                 Output Shape              Param #   \n",
      "=================================================================\n",
      "dense_28 (Dense)             (None, 364)               285740    \n",
      "_________________________________________________________________\n",
      "dense_29 (Dense)             (None, 128)               46720     \n",
      "_________________________________________________________________\n",
      "dense_30 (Dense)             (None, 64)                8256      \n",
      "_________________________________________________________________\n",
      "dense_31 (Dense)             (None, 10)                650       \n",
      "=================================================================\n",
      "Total params: 341,366\n",
      "Trainable params: 341,366\n",
      "Non-trainable params: 0\n",
      "_________________________________________________________________\n",
      "None\n"
     ]
    }
   ],
   "source": [
    "model3 = Sequential()\n",
    "\n",
    "model3.add(Dense(364, activation='relu', input_shape=(input_dim,),kernel_initializer='random_uniform'))\n",
    "model3.add(Dense(128, activation='relu',kernel_initializer='random_uniform'))\n",
    "model3.add(Dense(64, activation='relu', kernel_initializer='random_uniform'))\n",
    "\n",
    "#model2.add(BatchNormalization())\n",
    "#model2.add(Dropout(0.5))\n",
    "\n",
    "model3.add(Dense(output_dim, activation='softmax'))\n",
    "\n",
    "print(model3.summary())\n",
    "\n"
   ]
  },
  {
   "cell_type": "code",
   "execution_count": 0,
   "metadata": {
    "colab": {},
    "colab_type": "code",
    "id": "82YnRjqeewV8"
   },
   "outputs": [],
   "source": [
    "model3.compile(optimizer='adam', \n",
    "               loss='categorical_crossentropy',\n",
    "               metrics=['accuracy'])\n"
   ]
  },
  {
   "cell_type": "code",
   "execution_count": 0,
   "metadata": {
    "colab": {
     "base_uri": "https://localhost:8080/",
     "height": 370
    },
    "colab_type": "code",
    "id": "ZpRPFjFxewWA",
    "outputId": "14169b18-8507-4e99-ce4e-ccf809c7e05d"
   },
   "outputs": [
    {
     "name": "stdout",
     "output_type": "stream",
     "text": [
      "Train on 60000 samples, validate on 10000 samples\n",
      "Epoch 1/20\n",
      "Epoch 2/20\n",
      "Epoch 3/20\n",
      "Epoch 4/20\n",
      "Epoch 5/20\n",
      "Epoch 6/20\n",
      "Epoch 7/20\n",
      "Epoch 8/20\n",
      "Epoch 9/20\n",
      "Epoch 10/20\n",
      "Epoch 11/20\n",
      "Epoch 12/20\n",
      "Epoch 13/20\n",
      "Epoch 14/20\n",
      "Epoch 15/20\n",
      "Epoch 16/20\n",
      "Epoch 17/20\n",
      "Epoch 18/20\n",
      "Epoch 19/20\n",
      "Epoch 20/20\n"
     ]
    }
   ],
   "source": [
    "# Training the model\n",
    "history = model3.fit(X_train, y_train, batch_size = batch_size, epochs=nb_epoch, verbose= 30, validation_data=(X_test, y_test))"
   ]
  },
  {
   "cell_type": "code",
   "execution_count": 0,
   "metadata": {
    "colab": {
     "base_uri": "https://localhost:8080/",
     "height": 34
    },
    "colab_type": "code",
    "id": "C4WljsNBewWF",
    "outputId": "94dbabaf-411a-43e6-a002-81bcdae3e712"
   },
   "outputs": [
    {
     "name": "stdout",
     "output_type": "stream",
     "text": [
      "10000/10000 [==============================] - 1s 53us/step\n"
     ]
    }
   ],
   "source": [
    "score = model3.evaluate(X_test, y_test)"
   ]
  },
  {
   "cell_type": "code",
   "execution_count": 0,
   "metadata": {
    "colab": {
     "base_uri": "https://localhost:8080/",
     "height": 283
    },
    "colab_type": "code",
    "id": "LeS1eFZkewWK",
    "outputId": "4f62f16e-cbe9-4bae-fdbf-f8945fb4a789"
   },
   "outputs": [
    {
     "data": {
      "image/png": "[encoded data removed]",
      "text/plain": [
       "<Figure size 432x288 with 1 Axes>"
      ]
     },
     "metadata": {
      "tags": []
     },
     "output_type": "display_data"
    }
   ],
   "source": [
    "fig,ax = plt.subplots(1,1)\n",
    "ax.set_xlabel('Epochs') ; ax.set_ylabel('Loss')\n",
    "\n",
    "# list of epoch numbers\n",
    "list_of_epoch = list(range(1,nb_epoch+1))\n",
    "\n",
    "train_loss = history.history['loss']\n",
    "val_loss = history.history['val_loss']\n",
    "\n",
    "ax.plot(list_of_epoch, val_loss, 'g', label=\"Validation Loss\")\n",
    "ax.plot(list_of_epoch, train_loss, 'r', label=\"Training Loss\")\n",
    "plt.legend()\n",
    "plt.grid()\n",
    "plt.show();"
   ]
  },
  {
   "cell_type": "code",
   "execution_count": 0,
   "metadata": {
    "colab": {
     "base_uri": "https://localhost:8080/",
     "height": 34
    },
    "colab_type": "code",
    "id": "8jN3_TaNewWR",
    "outputId": "e68184e0-cde6-465c-f371-9993bb9ef4e4"
   },
   "outputs": [
    {
     "name": "stdout",
     "output_type": "stream",
     "text": [
      "Test accuracy: 0.9774\n"
     ]
    }
   ],
   "source": [
    "print('Test accuracy:', score[1])\n"
   ]
  },
  {
   "cell_type": "code",
   "execution_count": 0,
   "metadata": {
    "colab": {},
    "colab_type": "code",
    "id": "Ki-noYaAfY3J"
   },
   "outputs": [],
   "source": []
  },
  {
   "cell_type": "code",
   "execution_count": 0,
   "metadata": {
    "colab": {},
    "colab_type": "code",
    "id": "9p401n47fY8x"
   },
   "outputs": [],
   "source": []
  },
  {
   "cell_type": "markdown",
   "metadata": {
    "colab_type": "text",
    "id": "-MttMHOGfZFe"
   },
   "source": [
    "### Model with 3 hidden layers along with BN and dropout"
   ]
  },
  {
   "cell_type": "code",
   "execution_count": 0,
   "metadata": {
    "colab": {
     "base_uri": "https://localhost:8080/",
     "height": 353
    },
    "colab_type": "code",
    "id": "EjX-KC04feVS",
    "outputId": "8d655be9-d796-478b-fb5b-ecf54e73d5d7"
   },
   "outputs": [
    {
     "name": "stdout",
     "output_type": "stream",
     "text": [
      "_________________________________________________________________\n",
      "Layer (type)                 Output Shape              Param #   \n",
      "=================================================================\n",
      "dense_32 (Dense)             (None, 364)               285740    \n",
      "_________________________________________________________________\n",
      "dense_33 (Dense)             (None, 128)               46720     \n",
      "_________________________________________________________________\n",
      "dense_34 (Dense)             (None, 64)                8256      \n",
      "_________________________________________________________________\n",
      "batch_normalization_4 (Batch (None, 64)                256       \n",
      "_________________________________________________________________\n",
      "dropout_4 (Dropout)          (None, 64)                0         \n",
      "_________________________________________________________________\n",
      "dense_35 (Dense)             (None, 10)                650       \n",
      "=================================================================\n",
      "Total params: 341,622\n",
      "Trainable params: 341,494\n",
      "Non-trainable params: 128\n",
      "_________________________________________________________________\n",
      "None\n"
     ]
    }
   ],
   "source": [
    "model4 = Sequential()\n",
    "\n",
    "model4.add(Dense(364, activation='relu', input_shape=(input_dim,),kernel_initializer='random_uniform'))\n",
    "model4.add(Dense(128, activation='relu',kernel_initializer='random_uniform'))\n",
    "model4.add(Dense(64, activation='relu', kernel_initializer='random_uniform'))\n",
    "\n",
    "model4.add(BatchNormalization())\n",
    "model4.add(Dropout(0.5))\n",
    "\n",
    "model4.add(Dense(output_dim, activation='softmax'))\n",
    "\n",
    "print(model4.summary())\n",
    "\n"
   ]
  },
  {
   "cell_type": "code",
   "execution_count": 0,
   "metadata": {
    "colab": {},
    "colab_type": "code",
    "id": "djbFeh7ifeVa"
   },
   "outputs": [],
   "source": [
    "model4.compile(optimizer='adam', \n",
    "               loss='categorical_crossentropy',\n",
    "               metrics=['accuracy'])\n"
   ]
  },
  {
   "cell_type": "code",
   "execution_count": 0,
   "metadata": {
    "colab": {
     "base_uri": "https://localhost:8080/",
     "height": 370
    },
    "colab_type": "code",
    "id": "bdOjgWRUfeVd",
    "outputId": "4db6d2ed-4e49-4fc1-b04c-11e507b6d87e"
   },
   "outputs": [
    {
     "name": "stdout",
     "output_type": "stream",
     "text": [
      "Train on 60000 samples, validate on 10000 samples\n",
      "Epoch 1/20\n",
      "Epoch 2/20\n",
      "Epoch 3/20\n",
      "Epoch 4/20\n",
      "Epoch 5/20\n",
      "Epoch 6/20\n",
      "Epoch 7/20\n",
      "Epoch 8/20\n",
      "Epoch 9/20\n",
      "Epoch 10/20\n",
      "Epoch 11/20\n",
      "Epoch 12/20\n",
      "Epoch 13/20\n",
      "Epoch 14/20\n",
      "Epoch 15/20\n",
      "Epoch 16/20\n",
      "Epoch 17/20\n",
      "Epoch 18/20\n",
      "Epoch 19/20\n",
      "Epoch 20/20\n"
     ]
    }
   ],
   "source": [
    "# Training the model\n",
    "history = model4.fit(X_train, y_train, batch_size = batch_size, epochs=nb_epoch, verbose= 30, validation_data=(X_test, y_test))"
   ]
  },
  {
   "cell_type": "code",
   "execution_count": 0,
   "metadata": {
    "colab": {
     "base_uri": "https://localhost:8080/",
     "height": 34
    },
    "colab_type": "code",
    "id": "poD7Gp_ZfeVm",
    "outputId": "4d7155a4-648c-48eb-d25b-a35da9b865da"
   },
   "outputs": [
    {
     "name": "stdout",
     "output_type": "stream",
     "text": [
      "10000/10000 [==============================] - 1s 58us/step\n"
     ]
    }
   ],
   "source": [
    "score = model4.evaluate(X_test, y_test)"
   ]
  },
  {
   "cell_type": "code",
   "execution_count": 0,
   "metadata": {
    "colab": {
     "base_uri": "https://localhost:8080/",
     "height": 283
    },
    "colab_type": "code",
    "id": "NQhYmHrjfeVu",
    "outputId": "24e3173e-8ef4-431c-aa5d-527a0e977c8f"
   },
   "outputs": [
    {
     "data": {
      "image/png": "[encoded data removed]",
      "text/plain": [
       "<Figure size 432x288 with 1 Axes>"
      ]
     },
     "metadata": {
      "tags": []
     },
     "output_type": "display_data"
    }
   ],
   "source": [
    "fig,ax = plt.subplots(1,1)\n",
    "ax.set_xlabel('Epochs') ; ax.set_ylabel('Loss')\n",
    "\n",
    "# list of epoch numbers\n",
    "list_of_epoch = list(range(1,nb_epoch+1))\n",
    "\n",
    "train_loss = history.history['loss']\n",
    "val_loss = history.history['val_loss']\n",
    "\n",
    "ax.plot(list_of_epoch, val_loss, 'g', label=\"Validation Loss\")\n",
    "ax.plot(list_of_epoch, train_loss, 'r', label=\"Training Loss\")\n",
    "plt.legend()\n",
    "plt.grid()\n",
    "plt.show();"
   ]
  },
  {
   "cell_type": "code",
   "execution_count": 0,
   "metadata": {
    "colab": {
     "base_uri": "https://localhost:8080/",
     "height": 34
    },
    "colab_type": "code",
    "id": "GWdZbXmCfeV1",
    "outputId": "af70a214-d78e-4d2c-cc42-88261c0f2e06"
   },
   "outputs": [
    {
     "name": "stdout",
     "output_type": "stream",
     "text": [
      "Test accuracy: 0.9837\n"
     ]
    }
   ],
   "source": [
    "print('Test accuracy:', score[1])\n"
   ]
  },
  {
   "cell_type": "markdown",
   "metadata": {
    "colab_type": "text",
    "id": "57OB_o66RQ7_"
   },
   "source": [
    "### changing dropout rate to 0.8"
   ]
  },
  {
   "cell_type": "code",
   "execution_count": 36,
   "metadata": {
    "colab": {
     "base_uri": "https://localhost:8080/",
     "height": 353
    },
    "colab_type": "code",
    "id": "yQPfh9kcRTuo",
    "outputId": "aba3a670-e886-476f-bbf9-1207a50f4df9"
   },
   "outputs": [
    {
     "name": "stdout",
     "output_type": "stream",
     "text": [
      "_________________________________________________________________\n",
      "Layer (type)                 Output Shape              Param #   \n",
      "=================================================================\n",
      "dense_10 (Dense)             (None, 364)               285740    \n",
      "_________________________________________________________________\n",
      "dense_11 (Dense)             (None, 128)               46720     \n",
      "_________________________________________________________________\n",
      "dense_12 (Dense)             (None, 64)                8256      \n",
      "_________________________________________________________________\n",
      "batch_normalization_4 (Batch (None, 64)                256       \n",
      "_________________________________________________________________\n",
      "dropout_4 (Dropout)          (None, 64)                0         \n",
      "_________________________________________________________________\n",
      "dense_13 (Dense)             (None, 10)                650       \n",
      "=================================================================\n",
      "Total params: 341,622\n",
      "Trainable params: 341,494\n",
      "Non-trainable params: 128\n",
      "_________________________________________________________________\n",
      "None\n"
     ]
    }
   ],
   "source": [
    "model4 = Sequential()\n",
    "\n",
    "model4.add(Dense(364, activation='relu', input_shape=(input_dim,),kernel_initializer='random_uniform'))\n",
    "model4.add(Dense(128, activation='relu',kernel_initializer='random_uniform'))\n",
    "model4.add(Dense(64, activation='relu', kernel_initializer='random_uniform'))\n",
    "\n",
    "model4.add(BatchNormalization())\n",
    "model4.add(Dropout(0.8))\n",
    "\n",
    "model4.add(Dense(output_dim, activation='softmax'))\n",
    "\n",
    "print(model4.summary())\n",
    "\n"
   ]
  },
  {
   "cell_type": "code",
   "execution_count": 0,
   "metadata": {
    "colab": {},
    "colab_type": "code",
    "id": "O7EyCm5bRTux"
   },
   "outputs": [],
   "source": [
    "model4.compile(optimizer='adam', \n",
    "               loss='categorical_crossentropy',\n",
    "               metrics=['accuracy'])\n"
   ]
  },
  {
   "cell_type": "code",
   "execution_count": 38,
   "metadata": {
    "colab": {
     "base_uri": "https://localhost:8080/",
     "height": 370
    },
    "colab_type": "code",
    "id": "DOsjG8ysRTu1",
    "outputId": "5f1f935d-5ba9-4b81-8e91-448434e6c07e"
   },
   "outputs": [
    {
     "name": "stdout",
     "output_type": "stream",
     "text": [
      "Train on 60000 samples, validate on 10000 samples\n",
      "Epoch 1/10\n",
      "60000/60000 [==============================] - 6s 104us/step - loss: 0.7021 - acc: 0.7874 - val_loss: 0.5703 - val_acc: 0.9000\n",
      "Epoch 2/10\n",
      "60000/60000 [==============================] - 5s 90us/step - loss: 0.2923 - acc: 0.9194 - val_loss: 0.1403 - val_acc: 0.9595\n",
      "Epoch 3/10\n",
      "60000/60000 [==============================] - 5s 91us/step - loss: 0.1997 - acc: 0.9452 - val_loss: 0.1222 - val_acc: 0.9656\n",
      "Epoch 4/10\n",
      "60000/60000 [==============================] - 5s 91us/step - loss: 0.1612 - acc: 0.9552 - val_loss: 0.1013 - val_acc: 0.9737\n",
      "Epoch 5/10\n",
      "60000/60000 [==============================] - 5s 92us/step - loss: 0.1353 - acc: 0.9605 - val_loss: 0.0981 - val_acc: 0.9736\n",
      "Epoch 6/10\n",
      "60000/60000 [==============================] - 5s 90us/step - loss: 0.1188 - acc: 0.9655 - val_loss: 0.0997 - val_acc: 0.9751\n",
      "Epoch 7/10\n",
      "60000/60000 [==============================] - 5s 91us/step - loss: 0.1013 - acc: 0.9692 - val_loss: 0.0942 - val_acc: 0.9794\n",
      "Epoch 8/10\n",
      "60000/60000 [==============================] - 5s 89us/step - loss: 0.0933 - acc: 0.9719 - val_loss: 0.1042 - val_acc: 0.9758\n",
      "Epoch 9/10\n",
      "60000/60000 [==============================] - 5s 90us/step - loss: 0.0830 - acc: 0.9746 - val_loss: 0.0941 - val_acc: 0.9799\n",
      "Epoch 10/10\n",
      "60000/60000 [==============================] - 5s 88us/step - loss: 0.0747 - acc: 0.9760 - val_loss: 0.1098 - val_acc: 0.9767\n"
     ]
    }
   ],
   "source": [
    "# Training the model\n",
    "history = model4.fit(X_train, y_train, batch_size = batch_size, epochs=nb_epoch, verbose= 1, validation_data=(X_test, y_test))"
   ]
  },
  {
   "cell_type": "code",
   "execution_count": 39,
   "metadata": {
    "colab": {
     "base_uri": "https://localhost:8080/",
     "height": 34
    },
    "colab_type": "code",
    "id": "EsyPH0SWRTu7",
    "outputId": "1f8767f8-5588-4494-b663-97e36f7f9eea"
   },
   "outputs": [
    {
     "name": "stdout",
     "output_type": "stream",
     "text": [
      "10000/10000 [==============================] - 1s 51us/step\n"
     ]
    }
   ],
   "source": [
    "score = model4.evaluate(X_test, y_test)"
   ]
  },
  {
   "cell_type": "code",
   "execution_count": 40,
   "metadata": {
    "colab": {
     "base_uri": "https://localhost:8080/",
     "height": 283
    },
    "colab_type": "code",
    "id": "YxhXvK8XRTu_",
    "outputId": "3a55b53f-683a-4a06-deed-276cdca6c5e9"
   },
   "outputs": [
    {
     "data": {
      "image/png": "[encoded data removed]",
      "text/plain": [
       "<Figure size 432x288 with 1 Axes>"
      ]
     },
     "metadata": {
      "tags": []
     },
     "output_type": "display_data"
    }
   ],
   "source": [
    "fig,ax = plt.subplots(1,1)\n",
    "ax.set_xlabel('Epochs') ; ax.set_ylabel('Loss')\n",
    "\n",
    "# list of epoch numbers\n",
    "list_of_epoch = list(range(1,nb_epoch+1))\n",
    "\n",
    "train_loss = history.history['loss']\n",
    "val_loss = history.history['val_loss']\n",
    "\n",
    "ax.plot(list_of_epoch, val_loss, 'g', label=\"Validation Loss\")\n",
    "ax.plot(list_of_epoch, train_loss, 'r', label=\"Training Loss\")\n",
    "plt.legend()\n",
    "plt.grid()\n",
    "plt.show();"
   ]
  },
  {
   "cell_type": "code",
   "execution_count": 41,
   "metadata": {
    "colab": {
     "base_uri": "https://localhost:8080/",
     "height": 34
    },
    "colab_type": "code",
    "id": "DywCtmWXRTvE",
    "outputId": "e3b1759b-c5d8-49f9-db27-26144b497bc5"
   },
   "outputs": [
    {
     "name": "stdout",
     "output_type": "stream",
     "text": [
      "Test accuracy: 0.9767\n"
     ]
    }
   ],
   "source": [
    "print('Test accuracy:', score[1])\n"
   ]
  },
  {
   "cell_type": "code",
   "execution_count": 0,
   "metadata": {
    "colab": {},
    "colab_type": "code",
    "id": "K0NibEBcfiYl"
   },
   "outputs": [],
   "source": []
  },
  {
   "cell_type": "markdown",
   "metadata": {
    "colab_type": "text",
    "id": "2qpAEQZbRhmM"
   },
   "source": [
    "### changing dropout rate to 0.2"
   ]
  },
  {
   "cell_type": "code",
   "execution_count": 42,
   "metadata": {
    "colab": {
     "base_uri": "https://localhost:8080/",
     "height": 353
    },
    "colab_type": "code",
    "id": "C8Pw56WuRhmN",
    "outputId": "7bb5a11a-c65d-454c-9426-96261c55d89c"
   },
   "outputs": [
    {
     "name": "stdout",
     "output_type": "stream",
     "text": [
      "_________________________________________________________________\n",
      "Layer (type)                 Output Shape              Param #   \n",
      "=================================================================\n",
      "dense_14 (Dense)             (None, 364)               285740    \n",
      "_________________________________________________________________\n",
      "dense_15 (Dense)             (None, 128)               46720     \n",
      "_________________________________________________________________\n",
      "dense_16 (Dense)             (None, 64)                8256      \n",
      "_________________________________________________________________\n",
      "batch_normalization_5 (Batch (None, 64)                256       \n",
      "_________________________________________________________________\n",
      "dropout_5 (Dropout)          (None, 64)                0         \n",
      "_________________________________________________________________\n",
      "dense_17 (Dense)             (None, 10)                650       \n",
      "=================================================================\n",
      "Total params: 341,622\n",
      "Trainable params: 341,494\n",
      "Non-trainable params: 128\n",
      "_________________________________________________________________\n",
      "None\n"
     ]
    }
   ],
   "source": [
    "model4 = Sequential()\n",
    "\n",
    "model4.add(Dense(364, activation='relu', input_shape=(input_dim,),kernel_initializer='random_uniform'))\n",
    "model4.add(Dense(128, activation='relu',kernel_initializer='random_uniform'))\n",
    "model4.add(Dense(64, activation='relu', kernel_initializer='random_uniform'))\n",
    "\n",
    "model4.add(BatchNormalization())\n",
    "model4.add(Dropout(0.2))\n",
    "\n",
    "model4.add(Dense(output_dim, activation='softmax'))\n",
    "\n",
    "print(model4.summary())\n",
    "\n"
   ]
  },
  {
   "cell_type": "code",
   "execution_count": 0,
   "metadata": {
    "colab": {},
    "colab_type": "code",
    "id": "-2FZTPrmRhmS"
   },
   "outputs": [],
   "source": [
    "model4.compile(optimizer='adam', \n",
    "               loss='categorical_crossentropy',\n",
    "               metrics=['accuracy'])\n"
   ]
  },
  {
   "cell_type": "code",
   "execution_count": 44,
   "metadata": {
    "colab": {
     "base_uri": "https://localhost:8080/",
     "height": 370
    },
    "colab_type": "code",
    "id": "1HIKblfNRhmV",
    "outputId": "7fcc0e8a-b8d4-4f01-9896-9bf91ebab3ad"
   },
   "outputs": [
    {
     "name": "stdout",
     "output_type": "stream",
     "text": [
      "Train on 60000 samples, validate on 10000 samples\n",
      "Epoch 1/10\n",
      "60000/60000 [==============================] - 6s 105us/step - loss: 0.2361 - acc: 0.9319 - val_loss: 0.1084 - val_acc: 0.9648\n",
      "Epoch 2/10\n",
      "60000/60000 [==============================] - 5s 89us/step - loss: 0.0951 - acc: 0.9717 - val_loss: 0.1040 - val_acc: 0.9687\n",
      "Epoch 3/10\n",
      "60000/60000 [==============================] - 5s 90us/step - loss: 0.0647 - acc: 0.9810 - val_loss: 0.0983 - val_acc: 0.9693\n",
      "Epoch 4/10\n",
      "60000/60000 [==============================] - 5s 88us/step - loss: 0.0511 - acc: 0.9843 - val_loss: 0.0790 - val_acc: 0.9742\n",
      "Epoch 5/10\n",
      "60000/60000 [==============================] - 5s 88us/step - loss: 0.0386 - acc: 0.9879 - val_loss: 0.0710 - val_acc: 0.9785\n",
      "Epoch 6/10\n",
      "60000/60000 [==============================] - 5s 90us/step - loss: 0.0332 - acc: 0.9896 - val_loss: 0.0875 - val_acc: 0.9754\n",
      "Epoch 7/10\n",
      "60000/60000 [==============================] - 5s 87us/step - loss: 0.0248 - acc: 0.9918 - val_loss: 0.0862 - val_acc: 0.9765\n",
      "Epoch 8/10\n",
      "60000/60000 [==============================] - 5s 88us/step - loss: 0.0235 - acc: 0.9921 - val_loss: 0.0787 - val_acc: 0.9793\n",
      "Epoch 9/10\n",
      "60000/60000 [==============================] - 5s 87us/step - loss: 0.0196 - acc: 0.9939 - val_loss: 0.0858 - val_acc: 0.9794\n",
      "Epoch 10/10\n",
      "60000/60000 [==============================] - 5s 88us/step - loss: 0.0195 - acc: 0.9937 - val_loss: 0.0718 - val_acc: 0.9813\n"
     ]
    }
   ],
   "source": [
    "# Training the model\n",
    "history = model4.fit(X_train, y_train, batch_size = batch_size, epochs=nb_epoch, verbose= 1, validation_data=(X_test, y_test))"
   ]
  },
  {
   "cell_type": "code",
   "execution_count": 45,
   "metadata": {
    "colab": {
     "base_uri": "https://localhost:8080/",
     "height": 34
    },
    "colab_type": "code",
    "id": "gVMruiMiRhmb",
    "outputId": "7094bbe7-60a0-43c4-b374-c945bf03635f"
   },
   "outputs": [
    {
     "name": "stdout",
     "output_type": "stream",
     "text": [
      "10000/10000 [==============================] - 1s 55us/step\n"
     ]
    }
   ],
   "source": [
    "score = model4.evaluate(X_test, y_test)"
   ]
  },
  {
   "cell_type": "code",
   "execution_count": 46,
   "metadata": {
    "colab": {
     "base_uri": "https://localhost:8080/",
     "height": 283
    },
    "colab_type": "code",
    "id": "WumN7B8rRhmg",
    "outputId": "af05621b-d7fb-4085-dee4-9a560a8bdf20"
   },
   "outputs": [
    {
     "data": {
      "image/png": "[encoded data removed]",
      "text/plain": [
       "<Figure size 432x288 with 1 Axes>"
      ]
     },
     "metadata": {
      "tags": []
     },
     "output_type": "display_data"
    }
   ],
   "source": [
    "fig,ax = plt.subplots(1,1)\n",
    "ax.set_xlabel('Epochs') ; ax.set_ylabel('Loss')\n",
    "\n",
    "# list of epoch numbers\n",
    "list_of_epoch = list(range(1,nb_epoch+1))\n",
    "\n",
    "train_loss = history.history['loss']\n",
    "val_loss = history.history['val_loss']\n",
    "\n",
    "ax.plot(list_of_epoch, val_loss, 'g', label=\"Validation Loss\")\n",
    "ax.plot(list_of_epoch, train_loss, 'r', label=\"Training Loss\")\n",
    "plt.legend()\n",
    "plt.grid()\n",
    "plt.show();"
   ]
  },
  {
   "cell_type": "code",
   "execution_count": 47,
   "metadata": {
    "colab": {
     "base_uri": "https://localhost:8080/",
     "height": 34
    },
    "colab_type": "code",
    "id": "dVMb3qCjRhml",
    "outputId": "e4ad8136-f953-4d64-cfa3-2135323bccff"
   },
   "outputs": [
    {
     "name": "stdout",
     "output_type": "stream",
     "text": [
      "Test accuracy: 0.9813\n"
     ]
    }
   ],
   "source": [
    "print('Test accuracy:', score[1])\n"
   ]
  },
  {
   "cell_type": "markdown",
   "metadata": {
    "colab_type": "text",
    "id": "OX7ewI0efikV"
   },
   "source": [
    "### Model with 5 hidden layers"
   ]
  },
  {
   "cell_type": "code",
   "execution_count": 0,
   "metadata": {
    "colab": {
     "base_uri": "https://localhost:8080/",
     "height": 353
    },
    "colab_type": "code",
    "id": "MjcDT7JVflDv",
    "outputId": "074aefbb-2fe4-4aeb-e8f1-04e5956e14e2"
   },
   "outputs": [
    {
     "name": "stdout",
     "output_type": "stream",
     "text": [
      "_________________________________________________________________\n",
      "Layer (type)                 Output Shape              Param #   \n",
      "=================================================================\n",
      "dense_36 (Dense)             (None, 364)               285740    \n",
      "_________________________________________________________________\n",
      "dense_37 (Dense)             (None, 128)               46720     \n",
      "_________________________________________________________________\n",
      "dense_38 (Dense)             (None, 96)                12384     \n",
      "_________________________________________________________________\n",
      "dense_39 (Dense)             (None, 64)                6208      \n",
      "_________________________________________________________________\n",
      "dense_40 (Dense)             (None, 32)                2080      \n",
      "_________________________________________________________________\n",
      "dense_41 (Dense)             (None, 10)                330       \n",
      "=================================================================\n",
      "Total params: 353,462\n",
      "Trainable params: 353,462\n",
      "Non-trainable params: 0\n",
      "_________________________________________________________________\n",
      "None\n"
     ]
    }
   ],
   "source": [
    "model5 = Sequential()\n",
    "\n",
    "model5.add(Dense(364, activation='relu', input_shape=(input_dim,),kernel_initializer='random_uniform'))\n",
    "model5.add(Dense(128, activation='relu',kernel_initializer='random_uniform'))\n",
    "model5.add(Dense(96, activation='relu', kernel_initializer='random_uniform'))\n",
    "model5.add(Dense(64, activation='relu', kernel_initializer='random_uniform'))\n",
    "model5.add(Dense(32, activation='relu', kernel_initializer='random_uniform'))\n",
    "\n",
    "#model2.add(BatchNormalization())\n",
    "#model2.add(Dropout(0.5))\n",
    "\n",
    "model5.add(Dense(output_dim, activation='softmax'))\n",
    "\n",
    "print(model5.summary())\n",
    "\n"
   ]
  },
  {
   "cell_type": "code",
   "execution_count": 0,
   "metadata": {
    "colab": {},
    "colab_type": "code",
    "id": "sD8nDzV6flDz"
   },
   "outputs": [],
   "source": [
    "model5.compile(optimizer='adam', \n",
    "               loss='categorical_crossentropy',\n",
    "               metrics=['accuracy'])\n"
   ]
  },
  {
   "cell_type": "code",
   "execution_count": 0,
   "metadata": {
    "colab": {
     "base_uri": "https://localhost:8080/",
     "height": 370
    },
    "colab_type": "code",
    "id": "806fVaNsflD2",
    "outputId": "22fb16e8-55be-4397-a223-9f7bdede1ec1"
   },
   "outputs": [
    {
     "name": "stdout",
     "output_type": "stream",
     "text": [
      "Train on 60000 samples, validate on 10000 samples\n",
      "Epoch 1/20\n",
      "Epoch 2/20\n",
      "Epoch 3/20\n",
      "Epoch 4/20\n",
      "Epoch 5/20\n",
      "Epoch 6/20\n",
      "Epoch 7/20\n",
      "Epoch 8/20\n",
      "Epoch 9/20\n",
      "Epoch 10/20\n",
      "Epoch 11/20\n",
      "Epoch 12/20\n",
      "Epoch 13/20\n",
      "Epoch 14/20\n",
      "Epoch 15/20\n",
      "Epoch 16/20\n",
      "Epoch 17/20\n",
      "Epoch 18/20\n",
      "Epoch 19/20\n",
      "Epoch 20/20\n"
     ]
    }
   ],
   "source": [
    "# Training the model\n",
    "history = model5.fit(X_train, y_train, batch_size = batch_size, epochs=nb_epoch, verbose= 30, validation_data=(X_test, y_test))"
   ]
  },
  {
   "cell_type": "code",
   "execution_count": 0,
   "metadata": {
    "colab": {
     "base_uri": "https://localhost:8080/",
     "height": 34
    },
    "colab_type": "code",
    "id": "ugZdHSR_flD7",
    "outputId": "2d1fd70b-a6cd-4e53-ff57-f17aad2b5437"
   },
   "outputs": [
    {
     "name": "stdout",
     "output_type": "stream",
     "text": [
      "10000/10000 [==============================] - 1s 61us/step\n"
     ]
    }
   ],
   "source": [
    "score = model5.evaluate(X_test, y_test)"
   ]
  },
  {
   "cell_type": "code",
   "execution_count": 0,
   "metadata": {
    "colab": {
     "base_uri": "https://localhost:8080/",
     "height": 283
    },
    "colab_type": "code",
    "id": "V08d98E9flD_",
    "outputId": "d49942b0-88e2-44ee-c3bc-c897f4c28c82"
   },
   "outputs": [
    {
     "data": {
      "image/png": "[encoded data removed]",
      "text/plain": [
       "<Figure size 432x288 with 1 Axes>"
      ]
     },
     "metadata": {
      "tags": []
     },
     "output_type": "display_data"
    }
   ],
   "source": [
    "fig,ax = plt.subplots(1,1)\n",
    "ax.set_xlabel('Epochs') ; ax.set_ylabel('Loss')\n",
    "\n",
    "# list of epoch numbers\n",
    "list_of_epoch = list(range(1,nb_epoch+1))\n",
    "\n",
    "train_loss = history.history['loss']\n",
    "val_loss = history.history['val_loss']\n",
    "\n",
    "ax.plot(list_of_epoch, val_loss, 'g', label=\"Validation Loss\")\n",
    "ax.plot(list_of_epoch, train_loss, 'r', label=\"Training Loss\")\n",
    "plt.legend()\n",
    "plt.grid()\n",
    "plt.show();"
   ]
  },
  {
   "cell_type": "code",
   "execution_count": 0,
   "metadata": {
    "colab": {
     "base_uri": "https://localhost:8080/",
     "height": 34
    },
    "colab_type": "code",
    "id": "eF0AC0grflEF",
    "outputId": "6c09e009-fd7f-4427-c566-4359bcdd33e4"
   },
   "outputs": [
    {
     "name": "stdout",
     "output_type": "stream",
     "text": [
      "Test accuracy: 0.9804\n"
     ]
    }
   ],
   "source": [
    "print('Test accuracy:', score[1])\n"
   ]
  },
  {
   "cell_type": "markdown",
   "metadata": {
    "colab_type": "text",
    "id": "IuT_2hU0fvVy"
   },
   "source": [
    "### Model with 5 hidden layers along with BN and Dropout"
   ]
  },
  {
   "cell_type": "code",
   "execution_count": 0,
   "metadata": {
    "colab": {
     "base_uri": "https://localhost:8080/",
     "height": 420
    },
    "colab_type": "code",
    "id": "KhACVYGCf0Vp",
    "outputId": "46ef8ecf-c5f8-4103-8399-06c1c2d49505"
   },
   "outputs": [
    {
     "name": "stdout",
     "output_type": "stream",
     "text": [
      "_________________________________________________________________\n",
      "Layer (type)                 Output Shape              Param #   \n",
      "=================================================================\n",
      "dense_48 (Dense)             (None, 364)               285740    \n",
      "_________________________________________________________________\n",
      "dense_49 (Dense)             (None, 128)               46720     \n",
      "_________________________________________________________________\n",
      "dense_50 (Dense)             (None, 96)                12384     \n",
      "_________________________________________________________________\n",
      "dense_51 (Dense)             (None, 64)                6208      \n",
      "_________________________________________________________________\n",
      "dense_52 (Dense)             (None, 32)                2080      \n",
      "_________________________________________________________________\n",
      "batch_normalization_6 (Batch (None, 32)                128       \n",
      "_________________________________________________________________\n",
      "dropout_6 (Dropout)          (None, 32)                0         \n",
      "_________________________________________________________________\n",
      "dense_53 (Dense)             (None, 10)                330       \n",
      "=================================================================\n",
      "Total params: 353,590\n",
      "Trainable params: 353,526\n",
      "Non-trainable params: 64\n",
      "_________________________________________________________________\n",
      "None\n"
     ]
    }
   ],
   "source": [
    "model6 = Sequential()\n",
    "\n",
    "model6.add(Dense(364, activation='relu', input_shape=(input_dim,),kernel_initializer='random_uniform'))\n",
    "model6.add(Dense(128, activation='relu',kernel_initializer='random_uniform'))\n",
    "model6.add(Dense(96, activation='relu', kernel_initializer='random_uniform'))\n",
    "model6.add(Dense(64, activation='relu', kernel_initializer='random_uniform'))\n",
    "model6.add(Dense(32, activation='relu', kernel_initializer='random_uniform'))\n",
    "\n",
    "model6.add(BatchNormalization())\n",
    "model6.add(Dropout(0.5))\n",
    "\n",
    "model6.add(Dense(output_dim, activation='softmax'))\n",
    "\n",
    "print(model6.summary())\n",
    "\n"
   ]
  },
  {
   "cell_type": "code",
   "execution_count": 0,
   "metadata": {
    "colab": {},
    "colab_type": "code",
    "id": "_nfZE1z9f0Vw"
   },
   "outputs": [],
   "source": [
    "model6.compile(optimizer='adam', \n",
    "               loss='categorical_crossentropy',\n",
    "               metrics=['accuracy'])\n"
   ]
  },
  {
   "cell_type": "code",
   "execution_count": 0,
   "metadata": {
    "colab": {
     "base_uri": "https://localhost:8080/",
     "height": 370
    },
    "colab_type": "code",
    "id": "EnruAcacf0Vz",
    "outputId": "2f603791-426d-408d-f16a-d539baee2b3d"
   },
   "outputs": [
    {
     "name": "stdout",
     "output_type": "stream",
     "text": [
      "Train on 60000 samples, validate on 10000 samples\n",
      "Epoch 1/20\n",
      "Epoch 2/20\n",
      "Epoch 3/20\n",
      "Epoch 4/20\n",
      "Epoch 5/20\n",
      "Epoch 6/20\n",
      "Epoch 7/20\n",
      "Epoch 8/20\n",
      "Epoch 9/20\n",
      "Epoch 10/20\n",
      "Epoch 11/20\n",
      "Epoch 12/20\n",
      "Epoch 13/20\n",
      "Epoch 14/20\n",
      "Epoch 15/20\n",
      "Epoch 16/20\n",
      "Epoch 17/20\n",
      "Epoch 18/20\n",
      "Epoch 19/20\n",
      "Epoch 20/20\n"
     ]
    }
   ],
   "source": [
    "# Training the model\n",
    "history = model6.fit(X_train, y_train, batch_size = batch_size, epochs=nb_epoch, verbose= 30, validation_data=(X_test, y_test))"
   ]
  },
  {
   "cell_type": "code",
   "execution_count": 0,
   "metadata": {
    "colab": {
     "base_uri": "https://localhost:8080/",
     "height": 34
    },
    "colab_type": "code",
    "id": "OYaladjYf0V4",
    "outputId": "d6a9eddc-f6b7-449a-88eb-8f2a8c59e629"
   },
   "outputs": [
    {
     "name": "stdout",
     "output_type": "stream",
     "text": [
      "10000/10000 [==============================] - 1s 83us/step\n"
     ]
    }
   ],
   "source": [
    "score = model6.evaluate(X_test, y_test)"
   ]
  },
  {
   "cell_type": "code",
   "execution_count": 0,
   "metadata": {
    "colab": {
     "base_uri": "https://localhost:8080/",
     "height": 283
    },
    "colab_type": "code",
    "id": "gPfPhqZMf0V8",
    "outputId": "d406b90e-b3b6-43ee-9c68-2bbe88bbb511"
   },
   "outputs": [
    {
     "data": {
      "image/png": "[encoded data removed]",
      "text/plain": [
       "<Figure size 432x288 with 1 Axes>"
      ]
     },
     "metadata": {
      "tags": []
     },
     "output_type": "display_data"
    }
   ],
   "source": [
    "fig,ax = plt.subplots(1,1)\n",
    "ax.set_xlabel('Epochs') ; ax.set_ylabel('Loss')\n",
    "\n",
    "# list of epoch numbers\n",
    "list_of_epoch = list(range(1,nb_epoch+1))\n",
    "\n",
    "train_loss = history.history['loss']\n",
    "val_loss = history.history['val_loss']\n",
    "\n",
    "ax.plot(list_of_epoch, val_loss, 'g', label=\"Validation Loss\")\n",
    "ax.plot(list_of_epoch, train_loss, 'r', label=\"Training Loss\")\n",
    "plt.legend()\n",
    "plt.grid()\n",
    "plt.show();"
   ]
  },
  {
   "cell_type": "code",
   "execution_count": 0,
   "metadata": {
    "colab": {
     "base_uri": "https://localhost:8080/",
     "height": 34
    },
    "colab_type": "code",
    "id": "3NcpAo9Yf0WD",
    "outputId": "11b47266-ab83-4a7b-db86-1f33ab8c6853"
   },
   "outputs": [
    {
     "name": "stdout",
     "output_type": "stream",
     "text": [
      "Test accuracy: 0.9814\n"
     ]
    }
   ],
   "source": [
    "print('Test accuracy:', score[1])\n"
   ]
  },
  {
   "cell_type": "markdown",
   "metadata": {
    "colab_type": "text",
    "id": "DDShLz37SFZz"
   },
   "source": [
    "### Changing Dropout to 0.8"
   ]
  },
  {
   "cell_type": "code",
   "execution_count": 48,
   "metadata": {
    "colab": {
     "base_uri": "https://localhost:8080/",
     "height": 420
    },
    "colab_type": "code",
    "id": "qJxkO-hVSItR",
    "outputId": "d6a187c7-e7d1-4899-8732-c82f1b28c742"
   },
   "outputs": [
    {
     "name": "stdout",
     "output_type": "stream",
     "text": [
      "_________________________________________________________________\n",
      "Layer (type)                 Output Shape              Param #   \n",
      "=================================================================\n",
      "dense_18 (Dense)             (None, 364)               285740    \n",
      "_________________________________________________________________\n",
      "dense_19 (Dense)             (None, 128)               46720     \n",
      "_________________________________________________________________\n",
      "dense_20 (Dense)             (None, 96)                12384     \n",
      "_________________________________________________________________\n",
      "dense_21 (Dense)             (None, 64)                6208      \n",
      "_________________________________________________________________\n",
      "dense_22 (Dense)             (None, 32)                2080      \n",
      "_________________________________________________________________\n",
      "batch_normalization_6 (Batch (None, 32)                128       \n",
      "_________________________________________________________________\n",
      "dropout_6 (Dropout)          (None, 32)                0         \n",
      "_________________________________________________________________\n",
      "dense_23 (Dense)             (None, 10)                330       \n",
      "=================================================================\n",
      "Total params: 353,590\n",
      "Trainable params: 353,526\n",
      "Non-trainable params: 64\n",
      "_________________________________________________________________\n",
      "None\n"
     ]
    }
   ],
   "source": [
    "model6 = Sequential()\n",
    "\n",
    "model6.add(Dense(364, activation='relu', input_shape=(input_dim,),kernel_initializer='random_uniform'))\n",
    "model6.add(Dense(128, activation='relu',kernel_initializer='random_uniform'))\n",
    "model6.add(Dense(96, activation='relu', kernel_initializer='random_uniform'))\n",
    "model6.add(Dense(64, activation='relu', kernel_initializer='random_uniform'))\n",
    "model6.add(Dense(32, activation='relu', kernel_initializer='random_uniform'))\n",
    "\n",
    "model6.add(BatchNormalization())\n",
    "model6.add(Dropout(0.8))\n",
    "\n",
    "model6.add(Dense(output_dim, activation='softmax'))\n",
    "\n",
    "print(model6.summary())\n",
    "\n"
   ]
  },
  {
   "cell_type": "code",
   "execution_count": 0,
   "metadata": {
    "colab": {},
    "colab_type": "code",
    "id": "iwQjUoxQSItY"
   },
   "outputs": [],
   "source": [
    "model6.compile(optimizer='adam', \n",
    "               loss='categorical_crossentropy',\n",
    "               metrics=['accuracy'])\n"
   ]
  },
  {
   "cell_type": "code",
   "execution_count": 50,
   "metadata": {
    "colab": {
     "base_uri": "https://localhost:8080/",
     "height": 202
    },
    "colab_type": "code",
    "id": "3EYyh178SItc",
    "outputId": "0828719f-6b78-4e8b-b137-c7c6cccaf69d"
   },
   "outputs": [
    {
     "name": "stdout",
     "output_type": "stream",
     "text": [
      "Train on 60000 samples, validate on 10000 samples\n",
      "Epoch 1/10\n",
      "Epoch 2/10\n",
      "Epoch 3/10\n",
      "Epoch 4/10\n",
      "Epoch 5/10\n",
      "Epoch 6/10\n",
      "Epoch 7/10\n",
      "Epoch 8/10\n",
      "Epoch 9/10\n",
      "Epoch 10/10\n"
     ]
    }
   ],
   "source": [
    "# Training the model\n",
    "history = model6.fit(X_train, y_train, batch_size = batch_size, epochs=nb_epoch, verbose= 1, validation_data=(X_test, y_test))"
   ]
  },
  {
   "cell_type": "code",
   "execution_count": 51,
   "metadata": {
    "colab": {
     "base_uri": "https://localhost:8080/",
     "height": 34
    },
    "colab_type": "code",
    "id": "W_Y1WFOFSItg",
    "outputId": "3bdc96c0-59e4-4dff-9f90-cac58d366a0e"
   },
   "outputs": [
    {
     "name": "stdout",
     "output_type": "stream",
     "text": [
      "10000/10000 [==============================] - 1s 56us/step\n"
     ]
    }
   ],
   "source": [
    "score = model6.evaluate(X_test, y_test)"
   ]
  },
  {
   "cell_type": "code",
   "execution_count": 52,
   "metadata": {
    "colab": {
     "base_uri": "https://localhost:8080/",
     "height": 283
    },
    "colab_type": "code",
    "id": "qXV0AU89SItk",
    "outputId": "6a4cc66a-3400-40e4-9876-0bd275726d42"
   },
   "outputs": [
    {
     "data": {
      "image/png": "[encoded data removed]",
      "text/plain": [
       "<Figure size 432x288 with 1 Axes>"
      ]
     },
     "metadata": {
      "tags": []
     },
     "output_type": "display_data"
    }
   ],
   "source": [
    "fig,ax = plt.subplots(1,1)\n",
    "ax.set_xlabel('Epochs') ; ax.set_ylabel('Loss')\n",
    "\n",
    "# list of epoch numbers\n",
    "list_of_epoch = list(range(1,nb_epoch+1))\n",
    "\n",
    "train_loss = history.history['loss']\n",
    "val_loss = history.history['val_loss']\n",
    "\n",
    "ax.plot(list_of_epoch, val_loss, 'g', label=\"Validation Loss\")\n",
    "ax.plot(list_of_epoch, train_loss, 'r', label=\"Training Loss\")\n",
    "plt.legend()\n",
    "plt.grid()\n",
    "plt.show();"
   ]
  },
  {
   "cell_type": "code",
   "execution_count": 53,
   "metadata": {
    "colab": {
     "base_uri": "https://localhost:8080/",
     "height": 34
    },
    "colab_type": "code",
    "id": "0_3xZo1mSItp",
    "outputId": "aa9482e2-a1ca-43ef-c77c-b4068cdc1f71"
   },
   "outputs": [
    {
     "name": "stdout",
     "output_type": "stream",
     "text": [
      "Test accuracy: 0.9774\n"
     ]
    }
   ],
   "source": [
    "print('Test accuracy:', score[1])\n"
   ]
  },
  {
   "cell_type": "code",
   "execution_count": 0,
   "metadata": {
    "colab": {},
    "colab_type": "code",
    "id": "1xeNNyyXSR18"
   },
   "outputs": [],
   "source": []
  },
  {
   "cell_type": "markdown",
   "metadata": {
    "colab_type": "text",
    "id": "ZbS1bzrXSV0J"
   },
   "source": [
    "### Changing dropout to 0.2"
   ]
  },
  {
   "cell_type": "code",
   "execution_count": 54,
   "metadata": {
    "colab": {
     "base_uri": "https://localhost:8080/",
     "height": 420
    },
    "colab_type": "code",
    "id": "V0BQ_UB0SSNH",
    "outputId": "1d5f0959-518a-4020-9371-c11ecb6777da"
   },
   "outputs": [
    {
     "name": "stdout",
     "output_type": "stream",
     "text": [
      "_________________________________________________________________\n",
      "Layer (type)                 Output Shape              Param #   \n",
      "=================================================================\n",
      "dense_24 (Dense)             (None, 364)               285740    \n",
      "_________________________________________________________________\n",
      "dense_25 (Dense)             (None, 128)               46720     \n",
      "_________________________________________________________________\n",
      "dense_26 (Dense)             (None, 96)                12384     \n",
      "_________________________________________________________________\n",
      "dense_27 (Dense)             (None, 64)                6208      \n",
      "_________________________________________________________________\n",
      "dense_28 (Dense)             (None, 32)                2080      \n",
      "_________________________________________________________________\n",
      "batch_normalization_7 (Batch (None, 32)                128       \n",
      "_________________________________________________________________\n",
      "dropout_7 (Dropout)          (None, 32)                0         \n",
      "_________________________________________________________________\n",
      "dense_29 (Dense)             (None, 10)                330       \n",
      "=================================================================\n",
      "Total params: 353,590\n",
      "Trainable params: 353,526\n",
      "Non-trainable params: 64\n",
      "_________________________________________________________________\n",
      "None\n"
     ]
    }
   ],
   "source": [
    "model6 = Sequential()\n",
    "\n",
    "model6.add(Dense(364, activation='relu', input_shape=(input_dim,),kernel_initializer='random_uniform'))\n",
    "model6.add(Dense(128, activation='relu',kernel_initializer='random_uniform'))\n",
    "model6.add(Dense(96, activation='relu', kernel_initializer='random_uniform'))\n",
    "model6.add(Dense(64, activation='relu', kernel_initializer='random_uniform'))\n",
    "model6.add(Dense(32, activation='relu', kernel_initializer='random_uniform'))\n",
    "\n",
    "model6.add(BatchNormalization())\n",
    "model6.add(Dropout(0.2))\n",
    "\n",
    "model6.add(Dense(output_dim, activation='softmax'))\n",
    "\n",
    "print(model6.summary())\n",
    "\n"
   ]
  },
  {
   "cell_type": "code",
   "execution_count": 0,
   "metadata": {
    "colab": {},
    "colab_type": "code",
    "id": "hGW1r69lSSNf"
   },
   "outputs": [],
   "source": [
    "model6.compile(optimizer='adam', \n",
    "               loss='categorical_crossentropy',\n",
    "               metrics=['accuracy'])\n"
   ]
  },
  {
   "cell_type": "code",
   "execution_count": 57,
   "metadata": {
    "colab": {
     "base_uri": "https://localhost:8080/",
     "height": 370
    },
    "colab_type": "code",
    "id": "XDtdPSXBSSNp",
    "outputId": "69ee9249-3641-4d3d-b648-a48cc59c2480"
   },
   "outputs": [
    {
     "name": "stdout",
     "output_type": "stream",
     "text": [
      "Train on 60000 samples, validate on 10000 samples\n",
      "Epoch 1/10\n",
      "60000/60000 [==============================] - 6s 96us/step - loss: 0.1093 - acc: 0.9702 - val_loss: 0.1149 - val_acc: 0.9673\n",
      "Epoch 2/10\n",
      "60000/60000 [==============================] - 6s 94us/step - loss: 0.0770 - acc: 0.9781 - val_loss: 0.0869 - val_acc: 0.9751\n",
      "Epoch 3/10\n",
      "60000/60000 [==============================] - 6s 96us/step - loss: 0.0563 - acc: 0.9838 - val_loss: 0.0875 - val_acc: 0.9762\n",
      "Epoch 4/10\n",
      "60000/60000 [==============================] - 6s 97us/step - loss: 0.0462 - acc: 0.9865 - val_loss: 0.0839 - val_acc: 0.9766\n",
      "Epoch 5/10\n",
      "60000/60000 [==============================] - 6s 95us/step - loss: 0.0383 - acc: 0.9890 - val_loss: 0.0804 - val_acc: 0.9792\n",
      "Epoch 6/10\n",
      "60000/60000 [==============================] - 6s 95us/step - loss: 0.0338 - acc: 0.9899 - val_loss: 0.0968 - val_acc: 0.9739\n",
      "Epoch 7/10\n",
      "60000/60000 [==============================] - 6s 93us/step - loss: 0.0286 - acc: 0.9916 - val_loss: 0.0852 - val_acc: 0.9787\n",
      "Epoch 8/10\n",
      "60000/60000 [==============================] - 6s 94us/step - loss: 0.0280 - acc: 0.9916 - val_loss: 0.0806 - val_acc: 0.9795\n",
      "Epoch 9/10\n",
      "60000/60000 [==============================] - 6s 94us/step - loss: 0.0242 - acc: 0.9927 - val_loss: 0.0972 - val_acc: 0.9763\n",
      "Epoch 10/10\n",
      "60000/60000 [==============================] - 6s 95us/step - loss: 0.0213 - acc: 0.9934 - val_loss: 0.0747 - val_acc: 0.9819\n"
     ]
    }
   ],
   "source": [
    "# Training the model\n",
    "history = model6.fit(X_train, y_train, batch_size = batch_size, epochs=nb_epoch, verbose= 1, validation_data=(X_test, y_test))"
   ]
  },
  {
   "cell_type": "code",
   "execution_count": 59,
   "metadata": {
    "colab": {
     "base_uri": "https://localhost:8080/",
     "height": 34
    },
    "colab_type": "code",
    "id": "1ZwZu6lfSSNx",
    "outputId": "fb751632-2b11-4d56-8b81-1a9673a22758"
   },
   "outputs": [
    {
     "name": "stdout",
     "output_type": "stream",
     "text": [
      "10000/10000 [==============================] - 1s 65us/step\n"
     ]
    }
   ],
   "source": [
    "score = model6.evaluate(X_test, y_test)"
   ]
  },
  {
   "cell_type": "code",
   "execution_count": 60,
   "metadata": {
    "colab": {
     "base_uri": "https://localhost:8080/",
     "height": 283
    },
    "colab_type": "code",
    "id": "jgKdxCCmSSN2",
    "outputId": "00b18ed9-832a-4d9d-91c2-d09ccea88983"
   },
   "outputs": [
    {
     "data": {
      "image/png": "[encoded data removed]",
      "text/plain": [
       "<Figure size 432x288 with 1 Axes>"
      ]
     },
     "metadata": {
      "tags": []
     },
     "output_type": "display_data"
    }
   ],
   "source": [
    "fig,ax = plt.subplots(1,1)\n",
    "ax.set_xlabel('Epochs') ; ax.set_ylabel('Loss')\n",
    "\n",
    "# list of epoch numbers\n",
    "list_of_epoch = list(range(1,nb_epoch+1))\n",
    "\n",
    "train_loss = history.history['loss']\n",
    "val_loss = history.history['val_loss']\n",
    "\n",
    "ax.plot(list_of_epoch, val_loss, 'g', label=\"Validation Loss\")\n",
    "ax.plot(list_of_epoch, train_loss, 'r', label=\"Training Loss\")\n",
    "plt.legend()\n",
    "plt.grid()\n",
    "plt.show();"
   ]
  },
  {
   "cell_type": "code",
   "execution_count": 58,
   "metadata": {
    "colab": {
     "base_uri": "https://localhost:8080/",
     "height": 34
    },
    "colab_type": "code",
    "id": "8Dq4VX6NSSN8",
    "outputId": "ebd0222c-321b-413f-8a50-2f6f0e528810"
   },
   "outputs": [
    {
     "name": "stdout",
     "output_type": "stream",
     "text": [
      "Test accuracy: 0.9774\n"
     ]
    }
   ],
   "source": [
    "print('Test accuracy:', score[1])\n"
   ]
  },
  {
   "cell_type": "markdown",
   "metadata": {
    "colab_type": "text",
    "id": "8CAbjvsMs9Qi"
   },
   "source": [
    "- - -"
   ]
  },
  {
   "cell_type": "markdown",
   "metadata": {
    "colab_type": "text",
    "id": "AMpRCS_sLs4T"
   },
   "source": [
    "# Conclusions"
   ]
  },
  {
   "cell_type": "code",
   "execution_count": 64,
   "metadata": {
    "colab": {
     "base_uri": "https://localhost:8080/",
     "height": 286
    },
    "colab_type": "code",
    "id": "6jl_dF0_sZGN",
    "outputId": "74f3a5ed-0476-4385-8f38-7f033ea99b0d"
   },
   "outputs": [
    {
     "name": "stdout",
     "output_type": "stream",
     "text": [
      "+-----------------+-----+---------+----------+\n",
      "| Numer of Layers |  BN | Dropout | Accuracy |\n",
      "+-----------------+-----+---------+----------+\n",
      "|        2        |  NO |    NO   |   0.86   |\n",
      "|        2        | YES |   0.5   |   0.98   |\n",
      "|        2        | YES |   0.8   |   0.98   |\n",
      "|        2        | YES |   0.2   |   0.98   |\n",
      "|        3        |  NO |    NO   |   0.87   |\n",
      "|        3        | YES |   0.5   |   0.98   |\n",
      "|        3        | YES |   0.8   |   0.97   |\n",
      "|        3        | YES |   0.2   |   0.98   |\n",
      "|        5        |  NO |    NO   |   0.98   |\n",
      "|        5        | YES |   0.5   |   0.98   |\n",
      "|        5        | YES |   0.8   |   0.97   |\n",
      "|        5        | YES |   0.2   |   0.97   |\n",
      "+-----------------+-----+---------+----------+\n"
     ]
    }
   ],
   "source": [
    "# Please compare all your models using Prettytable library\n",
    "from prettytable import PrettyTable\n",
    "    \n",
    "x = PrettyTable()\n",
    "\n",
    "x.field_names = [\"Numer of Layers\", \"BN\",\"Dropout\", \"Accuracy\"]\n",
    "\n",
    "x.add_row([\"2\", 'NO',\"NO\", 0.86])\n",
    "x.add_row([\"2\", 'YES',0.5, 0.98])\n",
    "x.add_row([\"2\", 'YES',0.8, 0.98])\n",
    "x.add_row([\"2\", 'YES',0.2, 0.98])\n",
    "\n",
    "x.add_row([\"3\", 'NO',\"NO\", 0.87])\n",
    "x.add_row([\"3\", 'YES',0.5, 0.98])\n",
    "x.add_row([\"3\", 'YES',0.8, 0.97])\n",
    "x.add_row([\"3\", 'YES',0.2, 0.98])\n",
    "\n",
    "x.add_row([\"5\", 'NO','NO', 0.98])\n",
    "x.add_row([\"5\", 'YES',0.5, 0.98])\n",
    "x.add_row([\"5\", 'YES',0.8, 0.97])\n",
    "x.add_row([\"5\", 'YES',0.2, 0.97])\n",
    "\n",
    "\n",
    "print(x)"
   ]
  },
  {
   "cell_type": "code",
   "execution_count": 0,
   "metadata": {
    "colab": {},
    "colab_type": "code",
    "id": "uDDhGR-Os3kX"
   },
   "outputs": [],
   "source": []
  }
 ],
 "metadata": {
  "accelerator": "TPU",
  "colab": {
   "collapsed_sections": [],
   "name": "A#12.ipynb",
   "provenance": [],
   "version": "0.3.2"
  },
  "kernelspec": {
   "display_name": "Python 3",
   "language": "python",
   "name": "python3"
  },
  "language_info": {
   "codemirror_mode": {
    "name": "ipython",
    "version": 3
   },
   "file_extension": ".py",
   "mimetype": "text/x-python",
   "name": "python",
   "nbconvert_exporter": "python",
   "pygments_lexer": "ipython3",
   "version": "3.6.5"
  }
 },
 "nbformat": 4,
 "nbformat_minor": 1
}
